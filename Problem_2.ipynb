{
 "cells": [
  {
   "cell_type": "markdown",
   "metadata": {},
   "source": [
    "# Problem 2: Incorporating CNNs\n",
    "\n",
    "* Learning Objective: In this problem, you will learn how to deeply understand how Convolutional Neural Networks work by implementing one.\n",
    "* Provided Code: We provide the skeletons of classes you need to complete. Forward checking and gradient checkings are provided for verifying your implementation as well.\n",
    "* TODOs: you will implement a Convolutional Layer and a MaxPooling Layer to improve on your classification results in part 1."
   ]
  },
  {
   "cell_type": "code",
   "execution_count": 1,
   "metadata": {},
   "outputs": [],
   "source": [
    "from lib.mlp.fully_conn import *\n",
    "from lib.mlp.layer_utils import *\n",
    "from lib.mlp.datasets import *\n",
    "from lib.mlp.train import *\n",
    "from lib.cnn.layer_utils import *\n",
    "from lib.cnn.cnn_models import *\n",
    "from lib.grad_check import *\n",
    "from lib.optim import *\n",
    "import numpy as np\n",
    "import matplotlib.pyplot as plt\n",
    "\n",
    "%matplotlib inline\n",
    "plt.rcParams['figure.figsize'] = (10.0, 8.0) # set default size of plots\n",
    "plt.rcParams['image.interpolation'] = 'nearest'\n",
    "plt.rcParams['image.cmap'] = 'gray'\n",
    "\n",
    "# for auto-reloading external modules\n",
    "# see http://stackoverflow.com/questions/1907993/autoreload-of-modules-in-ipython\n",
    "%load_ext autoreload\n",
    "%autoreload 2"
   ]
  },
  {
   "cell_type": "markdown",
   "metadata": {},
   "source": [
    "## Loading the data (SVHN)\n",
    "Run the following code block to download SVHN dataset and load in the properly splitted SVHN data. The script `get_datasets.sh` use `wget` to download the SVHN dataset. If you have a trouble with executing `get_datasets.sh`, you can manually download the dataset and extract files."
   ]
  },
  {
   "cell_type": "code",
   "execution_count": 2,
   "metadata": {},
   "outputs": [
    {
     "name": "stdout",
     "output_type": "stream",
     "text": [
      "--2022-02-19 20:32:29--  http://ufldl.stanford.edu/housenumbers/train_32x32.mat\n",
      "Resolving ufldl.stanford.edu (ufldl.stanford.edu)... 171.64.68.10\n",
      "Connecting to ufldl.stanford.edu (ufldl.stanford.edu)|171.64.68.10|:80... connected.\n",
      "HTTP request sent, awaiting response... 200 OK\n",
      "Length: 182040794 (174M) [text/plain]\n",
      "Saving to: ‘data/train_32x32.mat.2’\n",
      "\n",
      "train_32x32.mat.2   100%[===================>] 173.61M   455KB/s    in 5m 3s   \n",
      "\n",
      "2022-02-19 20:37:32 (587 KB/s) - ‘data/train_32x32.mat.2’ saved [182040794/182040794]\n",
      "\n",
      "--2022-02-19 20:37:32--  http://ufldl.stanford.edu/housenumbers/test_32x32.mat\n",
      "Resolving ufldl.stanford.edu (ufldl.stanford.edu)... 171.64.68.10\n",
      "Connecting to ufldl.stanford.edu (ufldl.stanford.edu)|171.64.68.10|:80... connected.\n",
      "HTTP request sent, awaiting response... 200 OK\n",
      "Length: 64275384 (61M) [text/plain]\n",
      "Saving to: ‘data/test_32x32.mat.2’\n",
      "\n",
      "test_32x32.mat.2    100%[===================>]  61.30M   600KB/s    in 1m 43s  \n",
      "\n",
      "2022-02-19 20:39:15 (608 KB/s) - ‘data/test_32x32.mat.2’ saved [64275384/64275384]\n",
      "\n"
     ]
    }
   ],
   "source": [
    "!./get_datasets.sh\n",
    "# !get_datasets.sh for windows users"
   ]
  },
  {
   "cell_type": "code",
   "execution_count": 3,
   "metadata": {},
   "outputs": [
    {
     "name": "stdout",
     "output_type": "stream",
     "text": [
      "Name: data_train Shape: (70000, 32, 32, 3)\n",
      "Name: labels_train Shape: (70000,)\n",
      "Name: data_val Shape: (3257, 32, 32, 3)\n",
      "Name: labels_val Shape: (3257,)\n",
      "Name: data_test Shape: (26032, 32, 32, 3)\n",
      "Name: labels_test Shape: (26032,)\n"
     ]
    }
   ],
   "source": [
    "data = SVHN_data()\n",
    "for k, v in data.items():\n",
    "    print (\"Name: {} Shape: {}\".format(k, v.shape))"
   ]
  },
  {
   "cell_type": "markdown",
   "metadata": {},
   "source": [
    "## Convolutional Neural Networks\n",
    "\n",
    "We will use convolutional neural networks to try to improve on the results from Problem 1. Convolutional layers make the assumption that local pixels are more important for prediction than far-away pixels. This allows us to form networks that are robust to small changes in positioning in images.\n",
    "\n",
    "### Convolutional Layer Output size calculation [2pts]\n",
    "\n",
    "As you have learned, two important parameters of a convolutional layer are its stride and padding. To warm up, we will need to calculate the output size of a convolutional layer given its stride and padding. To do this, open the `lib/cnn/layer_utils.py` file and fill out the TODO section in the `get_output_size` function in the ConvLayer2D class. \n",
    "\n",
    "Implement your function so that it returns the correct size as indicated by the block below."
   ]
  },
  {
   "cell_type": "code",
   "execution_count": 484,
   "metadata": {},
   "outputs": [
    {
     "name": "stdout",
     "output_type": "stream",
     "text": [
      "Received [32, 16, 16, 16] and expected [32, 16, 16, 16]\n"
     ]
    }
   ],
   "source": [
    "%reload_ext autoreload\n",
    "\n",
    "input_image = np.zeros([32, 28, 28, 3]) # a stack of 32 28 by 28 rgb images\n",
    "\n",
    "in_channels = input_image.shape[-1] #must agree with the last dimension of the input image\n",
    "k_size = 4 \n",
    "n_filt = 16\n",
    "\n",
    "conv_layer = ConvLayer2D(in_channels, k_size, n_filt, stride=2, padding=3)\n",
    "output_size = conv_layer.get_output_size(input_image.shape) \n",
    "\n",
    "print(\"Received {} and expected [32, 16, 16, 16]\".format(output_size))"
   ]
  },
  {
   "cell_type": "markdown",
   "metadata": {},
   "source": [
    "### Convolutional Layer Forward Pass [5pts]\n",
    "\n",
    "Now, we will implement the forward pass of a convolutional layer. Fill in the TODO block in the `forward` function of the ConvLayer2D class."
   ]
  },
  {
   "cell_type": "code",
   "execution_count": 486,
   "metadata": {},
   "outputs": [
    {
     "name": "stdout",
     "output_type": "stream",
     "text": [
      "Received output shape: (1, 4, 4, 2), Expected output shape: (1, 4, 4, 2)\n",
      "Difference:  5.110565335399418e-08\n"
     ]
    }
   ],
   "source": [
    "%reload_ext autoreload\n",
    "\n",
    "# Test the convolutional forward function\n",
    "input_image = np.linspace(-0.1, 0.4, num=1*8*8*1).reshape([1, 8, 8, 1]) # a single 8 by 8 grayscale image\n",
    "in_channels, k_size, n_filt = 1, 5, 2\n",
    "\n",
    "weight_size = k_size*k_size*in_channels*n_filt\n",
    "bias_size = n_filt\n",
    "\n",
    "\n",
    "\n",
    "single_conv = ConvLayer2D(in_channels, k_size, n_filt, stride=1, padding=0, name=\"conv_test\")\n",
    "\n",
    "w = np.linspace(-0.2, 0.2, num=weight_size).reshape(k_size, k_size, in_channels, n_filt)\n",
    "b = np.linspace(-0.3, 0.3, num=bias_size)\n",
    "\n",
    "single_conv.params[single_conv.w_name] = w\n",
    "single_conv.params[single_conv.b_name] = b\n",
    "\n",
    "out = single_conv.forward(input_image)\n",
    "\n",
    "print(\"Received output shape: {}, Expected output shape: (1, 4, 4, 2)\".format(out.shape))\n",
    "\n",
    "correct_out = np.array([[\n",
    "   [[-0.03874312, 0.57000324],\n",
    "   [-0.03955296, 0.57081309],\n",
    "   [-0.04036281, 0.57162293],\n",
    "   [-0.04117266, 0.57243278]],\n",
    "\n",
    "  [[-0.0452219, 0.57648202],\n",
    "   [-0.04603175, 0.57729187],\n",
    "   [-0.04684159, 0.57810172],\n",
    "   [-0.04765144, 0.57891156]],\n",
    "\n",
    "  [[-0.05170068, 0.5829608 ],\n",
    "   [-0.05251053, 0.58377065],\n",
    "   [-0.05332038, 0.5845805 ],\n",
    "   [-0.05413022, 0.58539035]],\n",
    "\n",
    "  [[-0.05817946, 0.58943959],\n",
    "   [-0.05898931, 0.59024943],\n",
    "   [-0.05979916, 0.59105928],\n",
    "   [-0.06060901, 0.59186913]]]])\n",
    "\n",
    "# Compare your output with the above pre-computed ones. \n",
    "# The difference should not be larger than 1e-8\n",
    "print (\"Difference: \", rel_error(out, correct_out))"
   ]
  },
  {
   "cell_type": "markdown",
   "metadata": {},
   "source": [
    "### Conv Layer Backward [5pts]\n",
    "\n",
    "Now complete the backward pass of a convolutional layer. Fill in the TODO block in the `backward` function of the ConvLayer2D class. Check you results with this code and expect differences of less than 1e-6."
   ]
  },
  {
   "cell_type": "code",
   "execution_count": 487,
   "metadata": {},
   "outputs": [
    {
     "name": "stdout",
     "output_type": "stream",
     "text": [
      "dimg Error:  3.5442742047546413e-08\n",
      "dw Error:  9.613918688712257e-09\n",
      "db Error:  2.2240933925626285e-10\n",
      "dimg Shape:  (15, 8, 8, 3) (15, 8, 8, 3)\n"
     ]
    }
   ],
   "source": [
    "%reload_ext autoreload\n",
    "\n",
    "# Test the conv backward function\n",
    "img = np.random.randn(15, 8, 8, 3)\n",
    "w = np.random.randn(4, 4, 3, 12)\n",
    "b = np.random.randn(12)\n",
    "dout = np.random.randn(15, 4, 4, 12)\n",
    "\n",
    "single_conv = ConvLayer2D(input_channels=3, kernel_size=4, number_filters=12, stride=2, padding=1, name=\"conv_test\")\n",
    "single_conv.params[single_conv.w_name] = w\n",
    "single_conv.params[single_conv.b_name] = b\n",
    "\n",
    "dimg_num = eval_numerical_gradient_array(lambda x: single_conv.forward(img), img, dout)\n",
    "dw_num = eval_numerical_gradient_array(lambda w: single_conv.forward(img), w, dout)\n",
    "db_num = eval_numerical_gradient_array(lambda b: single_conv.forward(img), b, dout)\n",
    "\n",
    "out = single_conv.forward(img)\n",
    "\n",
    "dimg = single_conv.backward(dout)\n",
    "dw = single_conv.grads[single_conv.w_name]\n",
    "db = single_conv.grads[single_conv.b_name]\n",
    "# The error should be around 1e-8\n",
    "print(\"dimg Error: \", rel_error(dimg_num, dimg))\n",
    "# The errors should be around 1e-8\n",
    "print(\"dw Error: \", rel_error(dw_num, dw))\n",
    "print(\"db Error: \", rel_error(db_num, db))\n",
    "# The shapes should be same\n",
    "print(\"dimg Shape: \", dimg.shape, img.shape)"
   ]
  },
  {
   "cell_type": "markdown",
   "metadata": {},
   "source": [
    "## Max pooling Layer\n",
    "Now we will implement maxpooling layers, which can help to reduce the image size while preserving the overall structure of the image.\n",
    "\n",
    "### Forward Pass max pooling [5pts]\n",
    "Fill out the TODO block in the `forward` function of the MaxPoolingLayer class."
   ]
  },
  {
   "cell_type": "code",
   "execution_count": 488,
   "metadata": {},
   "outputs": [
    {
     "name": "stdout",
     "output_type": "stream",
     "text": [
      "Received output shape: (1, 3, 3, 1), Expected output shape: (1, 3, 3, 1)\n",
      "Difference:  1.8750000280978013e-08\n"
     ]
    }
   ],
   "source": [
    "# Test the convolutional forward function\n",
    "input_image = np.linspace(-0.1, 0.4, num=64).reshape([1, 8, 8, 1]) # a single 8 by 8 grayscale image\n",
    "\n",
    "maxpool= MaxPoolingLayer(pool_size=4, stride=2, name=\"maxpool_test\")\n",
    "out = maxpool.forward(input_image)\n",
    "\n",
    "print(\"Received output shape: {}, Expected output shape: (1, 3, 3, 1)\".format(out.shape))\n",
    "\n",
    "correct_out = np.array([[\n",
    "   [[0.11428571],\n",
    "   [0.13015873],\n",
    "   [0.14603175]],\n",
    "\n",
    "  [[0.24126984],\n",
    "   [0.25714286],\n",
    "   [0.27301587]],\n",
    "\n",
    "  [[0.36825397],\n",
    "   [0.38412698],\n",
    "   [0.4       ]]]])\n",
    "\n",
    "# Compare your output with the above pre-computed ones. \n",
    "# The difference should not be larger than 1e-8\n",
    "print (\"Difference: \", rel_error(out, correct_out))"
   ]
  },
  {
   "cell_type": "markdown",
   "metadata": {},
   "source": [
    "### Backward Pass Max pooling [5pts]\n",
    "Fill out the `backward` function in the MaxPoolingLayer class."
   ]
  },
  {
   "cell_type": "code",
   "execution_count": 489,
   "metadata": {},
   "outputs": [
    {
     "name": "stdout",
     "output_type": "stream",
     "text": [
      "dimg Error:  3.276489350389787e-12\n",
      "dimg Shape:  (15, 8, 8, 3) (15, 8, 8, 3)\n"
     ]
    }
   ],
   "source": [
    "img = np.random.randn(15, 8, 8, 3)\n",
    "\n",
    "dout = np.random.randn(15, 3, 3, 3)\n",
    "\n",
    "maxpool= MaxPoolingLayer(pool_size=4, stride=2, name=\"maxpool_test\")\n",
    "\n",
    "dimg_num = eval_numerical_gradient_array(lambda x: maxpool.forward(img), img, dout)\n",
    "\n",
    "out = maxpool.forward(img)\n",
    "dimg = maxpool.backward(dout)\n",
    "\n",
    "# The error should be around 1e-8\n",
    "print(\"dimg Error: \", rel_error(dimg_num, dimg))\n",
    "# The shapes should be same\n",
    "print(\"dimg Shape: \", dimg.shape, img.shape)"
   ]
  },
  {
   "cell_type": "markdown",
   "metadata": {},
   "source": [
    "### Test a Small Fully Connected Network [3pts]\n",
    "Please find the `TestCNN` class in `lib/cnn/cnn_models.py`.\n",
    "Again you only need to complete few lines of code in the TODO block.\n",
    "Please design a Convolutional --> Maxpool --> flatten --> fc network where the shapes of parameters match the given shapes.\n",
    "Please insert the corresponding names you defined for each layer to param_name_w, and param_name_b respectively.\n",
    "Here you only modify the param_name part, the _w, and _b are automatically assigned during network setup."
   ]
  },
  {
   "cell_type": "code",
   "execution_count": 490,
   "metadata": {},
   "outputs": [
    {
     "name": "stdout",
     "output_type": "stream",
     "text": [
      "Testing initialization ... \n",
      "Passed!\n",
      "Testing test-time forward pass ... \n",
      "Passed!\n",
      "Testing the loss ...\n",
      "Passed!\n",
      "Testing the gradients (error should be no larger than 1e-6) ...\n",
      "conv_b relative error: 7.29e-08\n",
      "conv_w relative error: 2.95e-08\n",
      "fc_b relative error: 1.87e-07\n",
      "fc_w relative error: 2.09e-05\n"
     ]
    }
   ],
   "source": [
    "%reload_ext autoreload\n",
    "\n",
    "seed = 1234\n",
    "np.random.seed(seed=seed)\n",
    "\n",
    "model = TestCNN()\n",
    "loss_func = cross_entropy()\n",
    "\n",
    "B, H, W, iC = 4, 8, 8, 3 #batch, height, width, in_channels\n",
    "k = 3 #kernel size\n",
    "oC, Hi, O = 3, 27, 5 # out channels, Hidden Layer input, Output size\n",
    "std = 0.02\n",
    "x = np.random.randn(B,H,W,iC)\n",
    "y = np.random.randint(O, size=B)\n",
    "\n",
    "print (\"Testing initialization ... \")\n",
    "\n",
    "###################################################\n",
    "# TODO: param_name should be replaced accordingly  #\n",
    "###################################################\n",
    "w1_std = abs(model.net.get_params(\"conv_w\").std() - std)\n",
    "b1 = model.net.get_params(\"conv_b\").std()\n",
    "w2_std = abs(model.net.get_params(\"fc_w\").std() - std)\n",
    "b2 = model.net.get_params(\"fc_b\").std()\n",
    "###################################################\n",
    "#                END OF YOUR CODE                 #\n",
    "###################################################\n",
    "\n",
    "assert w1_std < std / 10, \"First layer weights do not seem right\"\n",
    "assert np.all(b1 == 0), \"First layer biases do not seem right\"\n",
    "assert w2_std < std / 10, \"Second layer weights do not seem right\"\n",
    "assert np.all(b2 == 0), \"Second layer biases do not seem right\"\n",
    "print (\"Passed!\")\n",
    "\n",
    "print (\"Testing test-time forward pass ... \")\n",
    "w1 = np.linspace(-0.7, 0.3, num=k*k*iC*oC).reshape(k,k,iC,oC)\n",
    "w2 = np.linspace(-0.2, 0.2, num=Hi*O).reshape(Hi, O)\n",
    "b1 = np.linspace(-0.6, 0.2, num=oC)\n",
    "b2 = np.linspace(-0.9, 0.1, num=O)\n",
    "\n",
    "###################################################\n",
    "# TODO: param_name should be replaced accordingly  #\n",
    "###################################################\n",
    "model.net.assign(\"conv_w\", w1)\n",
    "model.net.assign(\"conv_b\", b1)\n",
    "model.net.assign(\"fc_w\", w2)\n",
    "model.net.assign(\"fc_b\", b2)\n",
    "###################################################\n",
    "#                END OF YOUR CODE                 #\n",
    "###################################################\n",
    "\n",
    "feats = np.linspace(-5.5, 4.5, num=B*H*W*iC).reshape(B,H,W,iC)\n",
    "scores = model.forward(feats)\n",
    "\n",
    "correct_scores = np.asarray([[-13.85107294, -11.52845818,  -9.20584342,  -6.88322866,  -4.5606139 ],\n",
    " [-11.44514171, -10.21200524 , -8.97886878 , -7.74573231 , -6.51259584],\n",
    " [ -9.03921048,  -8.89555231 , -8.75189413 , -8.60823596,  -8.46457778],\n",
    " [ -6.63327925 , -7.57909937 , -8.52491949 , -9.4707396 , -10.41655972]])\n",
    "scores_diff = np.sum(np.abs(scores - correct_scores))\n",
    "assert scores_diff < 1e-6, \"Your implementation might be wrong!\"\n",
    "print (\"Passed!\")\n",
    "\n",
    "print (\"Testing the loss ...\",)\n",
    "y = np.asarray([0, 2, 1, 4])\n",
    "loss = loss_func.forward(scores, y)\n",
    "dx_loss = eval_numerical_gradient(lambda x: loss_func.forward(scores, y), scores, verbose=False)\n",
    "dLoss = loss_func.backward()\n",
    "correct_loss = 4.56046848799693\n",
    "assert abs(loss - correct_loss) < 1e-10, \"Your implementation might be wrong!\"\n",
    "print (\"Passed!\")\n",
    "print (\"Testing the gradients (error should be no larger than 1e-6) ...\")\n",
    "din = model.backward(dLoss)\n",
    "for layer in model.net.layers:\n",
    "    if not layer.params:\n",
    "        continue\n",
    "    for name in sorted(layer.grads):\n",
    "        f = lambda _: loss_func.forward(model.forward(feats), y)\n",
    "        grad_num = eval_numerical_gradient(f, layer.params[name], verbose=False)\n",
    "        print ('%s relative error: %.2e' % (name, rel_error(grad_num, layer.grads[name])))"
   ]
  },
  {
   "cell_type": "markdown",
   "metadata": {},
   "source": [
    "### Training the Network [25pts]\n",
    "In this section, we defined a `SmallConvolutionalNetwork` class for you to fill in the TODO block in `lib/cnn/cnn_models.py`.\n",
    "\n",
    "Here please design a network with at most two convolutions and two maxpooling layers (you may use less).\n",
    "You can adjust the parameters for any layer, and include layers other than those listed above that you have implemented.\n",
    "You are also free to select any optimizer you have implemented (with any learning rate).\n",
    "\n",
    "Try to find a combination that is able to achieve 88% validation accuracy."
   ]
  },
  {
   "cell_type": "code",
   "execution_count": 435,
   "metadata": {},
   "outputs": [],
   "source": [
    "# Arrange the data\n",
    "data_dict = {\n",
    "    \"data_train\": (data[\"data_train\"], data[\"labels_train\"]),\n",
    "    \"data_val\": (data[\"data_val\"], data[\"labels_val\"]),\n",
    "    \"data_test\": (data[\"data_test\"], data[\"labels_test\"])\n",
    "}"
   ]
  },
  {
   "cell_type": "code",
   "execution_count": 436,
   "metadata": {},
   "outputs": [
    {
     "name": "stdout",
     "output_type": "stream",
     "text": [
      "Data shape: (70000, 32, 32, 3)\n",
      "Flattened data input size: 3072\n",
      "Number of data classes: 10\n"
     ]
    }
   ],
   "source": [
    "print(\"Data shape:\", data_dict[\"data_train\"][0].shape)\n",
    "print(\"Flattened data input size:\", np.prod(data[\"data_train\"].shape[1:]))\n",
    "print(\"Number of data classes:\", max(data['labels_train']) + 1)"
   ]
  },
  {
   "cell_type": "code",
   "execution_count": 481,
   "metadata": {
    "scrolled": true
   },
   "outputs": [
    {
     "name": "stdout",
     "output_type": "stream",
     "text": [
      "(Iteration 1 / 13116) loss: 2.3021236596152046\n",
      "(Iteration 101 / 13116) loss: 1.7095223668233566\n",
      "(Iteration 201 / 13116) loss: 1.5168350058001208\n",
      "(Iteration 301 / 13116) loss: 0.9789212618329346\n",
      "(Iteration 401 / 13116) loss: 0.9999992336027348\n",
      "(Iteration 501 / 13116) loss: 1.1335808069007969\n",
      "(Iteration 601 / 13116) loss: 0.8477675409971861\n",
      "(Iteration 701 / 13116) loss: 1.1742153594421243\n",
      "(Iteration 801 / 13116) loss: 1.036085472829193\n",
      "(Iteration 901 / 13116) loss: 1.016405498909346\n",
      "(Iteration 1001 / 13116) loss: 1.096786268627234\n",
      "(Epoch 1 / 12) Training Accuracy: 0.7577, Validation Accuracy: 0.7491556647221369\n",
      "(Iteration 1101 / 13116) loss: 0.8047045389439589\n",
      "(Iteration 1201 / 13116) loss: 0.8880575472952088\n",
      "(Iteration 1301 / 13116) loss: 0.9865997701409237\n",
      "(Iteration 1401 / 13116) loss: 0.7906809089210322\n",
      "(Iteration 1501 / 13116) loss: 0.7718215802389858\n",
      "(Iteration 1601 / 13116) loss: 0.6609264042745302\n",
      "(Iteration 1701 / 13116) loss: 0.5054536313753517\n",
      "(Iteration 1801 / 13116) loss: 0.6985118016166296\n",
      "(Iteration 1901 / 13116) loss: 0.8416384098865706\n",
      "(Iteration 2001 / 13116) loss: 0.541728909851366\n",
      "(Iteration 2101 / 13116) loss: 0.8026380788336172\n",
      "(Epoch 2 / 12) Training Accuracy: 0.8105285714285714, Validation Accuracy: 0.7936751611912803\n",
      "(Iteration 2201 / 13116) loss: 0.6936837483072098\n",
      "(Iteration 2301 / 13116) loss: 0.6676838131862401\n",
      "(Iteration 2401 / 13116) loss: 0.5401144930152723\n",
      "(Iteration 2501 / 13116) loss: 0.6021489265644414\n",
      "(Iteration 2601 / 13116) loss: 0.6185056832355278\n",
      "(Iteration 2701 / 13116) loss: 0.6301549313361754\n",
      "(Iteration 2801 / 13116) loss: 0.46678856921652595\n",
      "(Iteration 2901 / 13116) loss: 0.39496355533691596\n",
      "(Iteration 3001 / 13116) loss: 1.050507351679252\n",
      "(Iteration 3101 / 13116) loss: 1.049959764902435\n",
      "(Iteration 3201 / 13116) loss: 0.6835505938664433\n",
      "(Epoch 3 / 12) Training Accuracy: 0.8317714285714286, Validation Accuracy: 0.8151673319005219\n",
      "(Iteration 3301 / 13116) loss: 0.6691388385421666\n",
      "(Iteration 3401 / 13116) loss: 0.7952236702720485\n",
      "(Iteration 3501 / 13116) loss: 0.497100175133129\n",
      "(Iteration 3601 / 13116) loss: 0.542005980068569\n",
      "(Iteration 3701 / 13116) loss: 0.6720620859768269\n",
      "(Iteration 3801 / 13116) loss: 0.595240887206332\n",
      "(Iteration 3901 / 13116) loss: 0.3647255261291017\n",
      "(Iteration 4001 / 13116) loss: 0.8310572710167156\n",
      "(Iteration 4101 / 13116) loss: 0.5636259075357111\n",
      "(Iteration 4201 / 13116) loss: 0.731407241417017\n",
      "(Iteration 4301 / 13116) loss: 0.5941668953367594\n",
      "(Epoch 4 / 12) Training Accuracy: 0.8416428571428571, Validation Accuracy: 0.8262204482652747\n",
      "(Iteration 4401 / 13116) loss: 0.632961387302974\n",
      "(Iteration 4501 / 13116) loss: 0.6365734819651043\n",
      "(Iteration 4601 / 13116) loss: 0.5740210520086046\n",
      "(Iteration 4701 / 13116) loss: 0.4706165950595126\n",
      "(Iteration 4801 / 13116) loss: 0.479545866218835\n",
      "(Iteration 4901 / 13116) loss: 0.7547774607735527\n",
      "(Iteration 5001 / 13116) loss: 0.5165068347528584\n",
      "(Iteration 5101 / 13116) loss: 0.610383771295244\n",
      "(Iteration 5201 / 13116) loss: 0.46467374421663754\n",
      "(Iteration 5301 / 13116) loss: 0.851410436485147\n",
      "(Iteration 5401 / 13116) loss: 0.5296768147073025\n",
      "(Epoch 5 / 12) Training Accuracy: 0.8486, Validation Accuracy: 0.8375805956401596\n",
      "(Iteration 5501 / 13116) loss: 0.30702176021665195\n",
      "(Iteration 5601 / 13116) loss: 0.5400547237343378\n",
      "(Iteration 5701 / 13116) loss: 0.3539777549064422\n",
      "(Iteration 5801 / 13116) loss: 0.6539007354399007\n",
      "(Iteration 5901 / 13116) loss: 0.4932465991543572\n",
      "(Iteration 6001 / 13116) loss: 0.5701933079659665\n",
      "(Iteration 6101 / 13116) loss: 0.4651929666071824\n",
      "(Iteration 6201 / 13116) loss: 0.7159754094998172\n",
      "(Iteration 6301 / 13116) loss: 0.29957574609166626\n",
      "(Iteration 6401 / 13116) loss: 0.695035359810666\n",
      "(Iteration 6501 / 13116) loss: 0.343670738922967\n",
      "(Epoch 6 / 12) Training Accuracy: 0.8541714285714286, Validation Accuracy: 0.8388087196806877\n",
      "(Iteration 6601 / 13116) loss: 0.36429636032037505\n",
      "(Iteration 6701 / 13116) loss: 0.7458321352325936\n",
      "(Iteration 6801 / 13116) loss: 0.2341519259425071\n",
      "(Iteration 6901 / 13116) loss: 0.34429432013797245\n",
      "(Iteration 7001 / 13116) loss: 0.6351463209851349\n",
      "(Iteration 7101 / 13116) loss: 0.31925892333811623\n",
      "(Iteration 7201 / 13116) loss: 0.420043204439624\n",
      "(Iteration 7301 / 13116) loss: 0.35298281999819137\n",
      "(Iteration 7401 / 13116) loss: 0.9627473520835979\n",
      "(Iteration 7501 / 13116) loss: 0.9830877616792373\n",
      "(Iteration 7601 / 13116) loss: 0.6265480951952512\n",
      "(Epoch 7 / 12) Training Accuracy: 0.8585428571428572, Validation Accuracy: 0.8446423088731962\n",
      "(Iteration 7701 / 13116) loss: 0.5232668553312243\n",
      "(Iteration 7801 / 13116) loss: 0.29610832626702976\n",
      "(Iteration 7901 / 13116) loss: 0.4724727932270354\n",
      "(Iteration 8001 / 13116) loss: 0.9842802609334693\n",
      "(Iteration 8101 / 13116) loss: 0.3915585302137108\n",
      "(Iteration 8201 / 13116) loss: 0.7431424474192168\n",
      "(Iteration 8301 / 13116) loss: 0.3082646993926725\n",
      "(Iteration 8401 / 13116) loss: 0.25601427618209766\n",
      "(Iteration 8501 / 13116) loss: 0.18571644404541854\n",
      "(Iteration 8601 / 13116) loss: 0.6670437425397195\n",
      "(Iteration 8701 / 13116) loss: 0.46956896401588066\n",
      "(Epoch 8 / 12) Training Accuracy: 0.8611571428571428, Validation Accuracy: 0.842800122812404\n",
      "(Iteration 8801 / 13116) loss: 0.48387146031562317\n",
      "(Iteration 8901 / 13116) loss: 0.4017740588719082\n",
      "(Iteration 9001 / 13116) loss: 0.5803389352625264\n",
      "(Iteration 9101 / 13116) loss: 0.7556545463220632\n",
      "(Iteration 9201 / 13116) loss: 0.5985400491234862\n",
      "(Iteration 9301 / 13116) loss: 0.5951363259028914\n",
      "(Iteration 9401 / 13116) loss: 0.31623218003285725\n",
      "(Iteration 9501 / 13116) loss: 0.6038726075167564\n",
      "(Iteration 9601 / 13116) loss: 0.3332737205813292\n",
      "(Iteration 9701 / 13116) loss: 0.6388439252821143\n",
      "(Iteration 9801 / 13116) loss: 0.551847333905991\n",
      "(Epoch 9 / 12) Training Accuracy: 0.8635714285714285, Validation Accuracy: 0.8461774639238563\n",
      "(Iteration 9901 / 13116) loss: 0.3421897765585259\n",
      "(Iteration 10001 / 13116) loss: 0.454286790778643\n",
      "(Iteration 10101 / 13116) loss: 0.33300802095859106\n",
      "(Iteration 10201 / 13116) loss: 0.32494018477567294\n",
      "(Iteration 10301 / 13116) loss: 0.4901093450565391\n",
      "(Iteration 10401 / 13116) loss: 0.3152528917822998\n",
      "(Iteration 10501 / 13116) loss: 0.4605988045872521\n",
      "(Iteration 10601 / 13116) loss: 0.26795097143590507\n",
      "(Iteration 10701 / 13116) loss: 0.43334764118177643\n",
      "(Iteration 10801 / 13116) loss: 0.498402469720969\n",
      "(Iteration 10901 / 13116) loss: 0.31568733037546887\n",
      "(Epoch 10 / 12) Training Accuracy: 0.8655285714285714, Validation Accuracy: 0.8467915259441203\n",
      "Decaying learning rate of the optimizer to 0.000999\n",
      "(Iteration 11001 / 13116) loss: 0.49254195051433036\n",
      "(Iteration 11101 / 13116) loss: 0.889758229092819\n",
      "(Iteration 11201 / 13116) loss: 0.5009276432623826\n",
      "(Iteration 11301 / 13116) loss: 0.40881206210026566\n",
      "(Iteration 11401 / 13116) loss: 0.4876919643229566\n",
      "(Iteration 11501 / 13116) loss: 0.6706435201302601\n",
      "(Iteration 11601 / 13116) loss: 0.34739944154217717\n",
      "(Iteration 11701 / 13116) loss: 0.500726248502765\n",
      "(Iteration 11801 / 13116) loss: 0.33929541360156507\n",
      "(Iteration 11901 / 13116) loss: 0.3407722405758259\n",
      "(Iteration 12001 / 13116) loss: 0.5544699344303494\n",
      "(Epoch 11 / 12) Training Accuracy: 0.8676428571428572, Validation Accuracy: 0.8480196499846484\n",
      "(Iteration 12101 / 13116) loss: 0.4638178109540947\n",
      "(Iteration 12201 / 13116) loss: 0.5235556799454328\n",
      "(Iteration 12301 / 13116) loss: 0.5834845377323695\n",
      "(Iteration 12401 / 13116) loss: 0.47468155082355246\n",
      "(Iteration 12501 / 13116) loss: 0.42095450317542005\n",
      "(Iteration 12601 / 13116) loss: 0.6415187028626683\n",
      "(Iteration 12701 / 13116) loss: 0.6996928800133052\n",
      "(Iteration 12801 / 13116) loss: 0.39630564946808233\n",
      "(Iteration 12901 / 13116) loss: 0.4990920400792926\n",
      "(Iteration 13001 / 13116) loss: 0.591564338769305\n",
      "(Iteration 13101 / 13116) loss: 0.2548811857899169\n",
      "(Epoch 12 / 12) Training Accuracy: 0.8692, Validation Accuracy: 0.8501688670555726\n"
     ]
    }
   ],
   "source": [
    "%reload_ext autoreload\n",
    "\n",
    "seed = 123\n",
    "np.random.seed(seed=seed)\n",
    "\n",
    "model = SmallConvolutionalNetwork()\n",
    "loss_f = cross_entropy()\n",
    "\n",
    "\n",
    "results = None\n",
    "#############################################################################\n",
    "# TODO: Use the train_net function you completed to train a network         #\n",
    "#############################################################################\n",
    "optimizer = RMSProp(model.net, 1e-3)\n",
    "batch_size = 64\n",
    "epochs = 12\n",
    "lr_decay = .999\n",
    "lr_decay_every = 10\n",
    "\n",
    "#############################################################################\n",
    "#                             END OF YOUR CODE                              #\n",
    "#############################################################################\n",
    "results = train_net(data_dict, model, loss_f, optimizer, batch_size, epochs, \n",
    "                    lr_decay, lr_decay_every, show_every=100, verbose=True)\n",
    "opt_params, loss_hist, train_acc_hist, val_acc_hist = results"
   ]
  },
  {
   "cell_type": "markdown",
   "metadata": {},
   "source": [
    "Run the code below to generate the training plots."
   ]
  },
  {
   "cell_type": "code",
   "execution_count": 482,
   "metadata": {},
   "outputs": [
    {
     "data": {
      "image/png": "[encoded data removed]",
      "text/plain": [
       "<Figure size 1080x864 with 2 Axes>"
      ]
     },
     "metadata": {
      "needs_background": "light"
     },
     "output_type": "display_data"
    }
   ],
   "source": [
    "%reload_ext autoreload\n",
    "\n",
    "opt_params, loss_hist, train_acc_hist, val_acc_hist = results\n",
    "\n",
    "# Plot the learning curves\n",
    "plt.subplot(2, 1, 1)\n",
    "plt.title('Training loss')\n",
    "loss_hist_ = loss_hist[1::100]  # sparse the curve a bit\n",
    "plt.plot(loss_hist_, '-o')\n",
    "plt.xlabel('Iteration')\n",
    "\n",
    "plt.subplot(2, 1, 2)\n",
    "plt.title('Accuracy')\n",
    "plt.plot(train_acc_hist, '-o', label='Training')\n",
    "plt.plot(val_acc_hist, '-o', label='Validation')\n",
    "plt.xlabel('Epoch')\n",
    "plt.legend(loc='lower right')\n",
    "plt.gcf().set_size_inches(15, 12)\n",
    "\n",
    "plt.show()"
   ]
  },
  {
   "cell_type": "markdown",
   "metadata": {},
   "source": [
    "### Visualizing Layers [5pts]\n",
    "\n",
    "An interesting finding from early research in convolutional networks was that the learned convolutions resembled filters used for things like edge detection. Complete the code below to visualize the filters in the first convolutional layer of your best model."
   ]
  },
  {
   "cell_type": "code",
   "execution_count": 483,
   "metadata": {},
   "outputs": [
    {
     "data": {
      "image/png": "[encoded data removed]",
      "text/plain": [
       "<Figure size 756x3636 with 48 Axes>"
      ]
     },
     "metadata": {},
     "output_type": "display_data"
    }
   ],
   "source": [
    "im_array = None\n",
    "nrows, ncols = None, None\n",
    "\n",
    "###################################################\n",
    "# TODO: read the weights in the convolutional     #\n",
    "# layer and reshape them to a grid of images to   #\n",
    "# view with matplotlib.                           #\n",
    "###################################################\n",
    "filters = model.net.get_params(\"conv1_w\")\n",
    "fig = plt.gcf()\n",
    "fig.set_size_inches(10.5, 50.5)\n",
    "fig.savefig('test2png.png', dpi=100)\n",
    "position=1\n",
    "for i in range(filters.shape[3]):\n",
    "    f = filters[:, :, :, i]\n",
    "    for j in range(3):\n",
    "        ax = plt.subplot(filters.shape[3], 3, position)\n",
    "        ax.set_xticks([])\n",
    "        ax.set_yticks([])\n",
    "        plt.imshow(f[:, :, j], cmap='gray')\n",
    "        position += 1\n",
    "plt.show()        \n",
    "###################################################\n",
    "#                END OF YOUR CODE                 #\n",
    "###################################################\n",
    "\n",
    "#plt.imshow(im_array)"
   ]
  },
  {
   "cell_type": "markdown",
   "metadata": {},
   "source": [
    "#### Inline Question: Comment below on what kinds of filters you see. Include your response in your submission [5pts]"
   ]
  },
  {
   "cell_type": "markdown",
   "metadata": {},
   "source": []
  },
  {
   "cell_type": "markdown",
   "metadata": {},
   "source": [
    "# Submission\n",
    "\n",
    "Please prepare a PDF document `problem_2_solution.pdf` in the root directory of this repository with all plots and inline answers of your solution. Concretely, the document should contain the following items in strict order:\n",
    "1. Training loss / accuracy curves for CNN training\n",
    "2. Visualization of convolutional filters\n",
    "3. Answers to inline questions about convolutional filters\n",
    "\n",
    "Note that you still need to submit the jupyter notebook with all generated solutions. We will randomly pick submissions and check that the plots in the PDF and in the notebook are equivalent."
   ]
  },
  {
   "cell_type": "code",
   "execution_count": null,
   "metadata": {},
   "outputs": [],
   "source": []
  }
 ],
 "metadata": {
  "kernelspec": {
   "display_name": "Python 3",
   "language": "python",
   "name": "python3"
  },
  "language_info": {
   "codemirror_mode": {
    "name": "ipython",
    "version": 3
   },
   "file_extension": ".py",
   "mimetype": "text/x-python",
   "name": "python",
   "nbconvert_exporter": "python",
   "pygments_lexer": "ipython3",
   "version": "3.6.13"
  }
 },
 "nbformat": 4,
 "nbformat_minor": 4
}
